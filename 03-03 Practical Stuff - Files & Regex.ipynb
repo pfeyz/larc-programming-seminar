{
 "metadata": {
  "name": ""
 },
 "nbformat": 3,
 "nbformat_minor": 0,
 "worksheets": [
  {
   "cells": [
    {
     "cell_type": "markdown",
     "metadata": {},
     "source": [
      "Dealing with Files\n",
      "=================="
     ]
    },
    {
     "cell_type": "code",
     "collapsed": false,
     "input": [
      "import re\n",
      "def anonymize(email, char='\u25a0'):\n",
      "    \"\"\" a little utility function to avoid putting everybody's \n",
      "    name and email on the internet. \n",
      "        \n",
      "    `char` will replace all alphabetic chars after the first 4.\n",
      "    \"\"\"\n",
      "    name, domain = email.split('@')\n",
      "    name = name[:4] + re.sub('\\w', char, name[4:])  # regular expressions!\n",
      "    return '@'.join([name, domain])"
     ],
     "language": "python",
     "metadata": {},
     "outputs": [],
     "prompt_number": 2
    },
    {
     "cell_type": "code",
     "collapsed": false,
     "input": [
      "print anonymize('Information Jones <information-jones@example.com>')"
     ],
     "language": "python",
     "metadata": {},
     "outputs": [
      {
       "output_type": "stream",
       "stream": "stdout",
       "text": [
        "Info\u25a0\u25a0\u25a0\u25a0\u25a0\u25a0\u25a0 \u25a0\u25a0\u25a0\u25a0\u25a0 <\u25a0\u25a0\u25a0\u25a0\u25a0\u25a0\u25a0\u25a0\u25a0\u25a0\u25a0-\u25a0\u25a0\u25a0\u25a0\u25a0@example.com>\n"
       ]
      }
     ],
     "prompt_number": 4
    },
    {
     "cell_type": "markdown",
     "metadata": {},
     "source": [
      "Opening a text file\n",
      "-------------------"
     ]
    },
    {
     "cell_type": "code",
     "collapsed": true,
     "input": [
      "fh = open('emails.txt') # fh stands for file handle, a common convention\n",
      "for line in fh:\n",
      "    print anonymize(line)\n",
      "fh.close()"
     ],
     "language": "python",
     "metadata": {},
     "outputs": [
      {
       "output_type": "stream",
       "stream": "stdout",
       "text": [
        "Adam \u25a0\u25a0\u25a0\u25a0\u25a0\u25a0\u25a0\u25a0 <\u25a0.\u25a0\u25a0\u25a0\u25a0\u25a0\u25a0\u25a0\u25a0@gmail.com>\n",
        "\n",
        "dani\u25a0\u25a0 \u25a0\u25a0\u25a0\u25a0 <\u25a0\u25a0\u25a0\u25a0\u25a0\u25a0\u25a0\u25a0\u25a0@gmail.com>\n",
        "\n",
        "Dann\u25a0 \u25a0\u25a0\u25a0\u25a0\u25a0\u25a0 <\u25a0\u25a0\u25a0\u25a0\u25a0\u25a0@gmail.com>\n",
        "\n",
        "Domi\u25a0\u25a0\u25a0\u25a0\u25a0 \u25a0 \u25a0\u25a0\u25a0\u25a0\u25a0\u25a0\u25a0\u25a0\u25a0\u25a0\u25a0 <\u25a0\u25a0\u25a0\u25a0\u25a0\u25a0\u25a0\u25a0\u25a0\u25a0\u25a0@nyu.edu>\n",
        "\n",
        "Doro\u25a0\u25a0 \u25a0\u25a0\u25a0\u25a0\u25a0\u25a0\u25a0 <\u25a0\u25a0\u25a0\u25a0\u25a0\u25a0\u25a0\u25a0@hunter.cuny.edu>\n",
        "\n",
        "Erin \u25a0\u25a0\u25a0\u25a0\u25a0 <\u25a0\u25a0\u25a0\u25a0\u25a0\u25a0\u25a0\u25a0@gmail.com>\n",
        "\n",
        "Fran\u25a0\u25a0\u25a0 \u25a0\u25a0\u25a0\u25a0\u25a0\u25a0\u25a0\u25a0\u25a0\u25a0 <\u25a0\u25a0\u25a0\u25a0\u25a0\u25a0\u25a0\u25a0\u25a0\u25a0\u25a0@gc.cuny.edu>\n",
        "\n",
        "Giul\u25a0\u25a0 \u25a0\u25a0\u25a0\u25a0\u25a0\u25a0\u25a0 <\u25a0\u25a0\u25a0\u25a0\u25a0\u25a0\u25a0\u25a0@hunter.cuny.edu>\n",
        "\n",
        "Glor\u25a0\u25a0 \u25a0 <\u25a0\u25a0\u25a0\u25a0\u25a0\u25a0\u25a0\u25a0\u25a0@gmail.com>\n",
        "\n",
        "Jere\u25a0\u25a0 \u25a0\u25a0\u25a0\u25a0\u25a0\u25a0 <\u25a0\u25a0\u25a0\u25a0\u25a0\u25a0\u25a0\u25a0\u25a0\u25a0@gmail.com>\n",
        "\n",
        "John \u25a0\u25a0\u25a0\u25a0\u25a0\u25a0\u25a0 <\u25a0\u25a0\u25a0\u25a0.\u25a0\u25a0\u25a0\u25a0@gmail.com>\n",
        "\n",
        "\"Wag\u25a0\u25a0\u25a0 \u25a0\u25a0\u25a0\u25a0\u25a0\" <\u25a0\u25a0\u25a0\u25a0\u25a0\u25a0.\u25a0\u25a0\u25a0@osu.edu>\n",
        "\n",
        "Laur\u25a0\u25a0 \u25a0\u25a0\u25a0\u25a0\u25a0\u25a0\u25a0 <\u25a0\u25a0\u25a0.\u25a0\u25a0\u25a0\u25a0\u25a0\u25a0\u25a0@gmail.com>\n",
        "\n",
        "lidi\u25a0\u25a0 \u25a0\u25a0\u25a0\u25a0\u25a0\u25a0\u25a0\u25a0 <\u25a0\u25a0\u25a0\u25a0\u25a0\u25a0\u25a0\u25a0\u25a0\u25a0\u25a0\u25a0\u25a0\u25a0\u25a0@yahoo.com >\n",
        "\n",
        "Mart\u25a0\u25a0 \u25a0\u25a0\u25a0\u25a0\u25a0\u25a0\u25a0\u25a0 <\u25a0\u25a0\u25a0\u25a0\u25a0\u25a0.\u25a0\u25a0\u25a0\u25a0\u25a0\u25a0\u25a0\u25a0@gmail.com>\n",
        "\n",
        "miho <\u25a0\u25a0\u25a0\u25a0\u25a0\u25a0@gc.cuny.edu>\n",
        "\n",
        "Nocr\u25a0\u25a0\u25a0 <\u25a0\u25a0\u25a0\u25a0\u25a0\u25a0\u25a0@gmail.com>\n",
        "\n",
        "Paul \u25a0\u25a0\u25a0\u25a0\u25a0\u25a0\u25a0\u25a0\u25a0\u25a0 <\u25a0\u25a0\u25a0\u25a0.\u25a0\u25a0\u25a0\u25a0\u25a0\u25a0\u25a0\u25a0\u25a0\u25a0@gmail.com>\n",
        "\n",
        "Sand\u25a0\u25a0\u25a0 \u25a0\u25a0\u25a0\u25a0\u25a0\u25a0\u25a0 <\u25a0\u25a0\u25a0\u25a0\u25a0\u25a0\u25a0.\u25a0\u25a0\u25a0\u25a0\u25a0\u25a0\u25a0@gmail.com>\n",
        "\n",
        "Step\u25a0\u25a0\u25a0\u25a0\u25a0 \u25a0\u25a0\u25a0\u25a0\u25a0\u25a0\u25a0\u25a0 <\u25a0\u25a0\u25a0\u25a0\u25a0\u25a0\u25a0\u25a0@smith.edu>\n",
        "\n",
        "Syel\u25a0\u25a0 \u25a0\u25a0\u25a0\u25a0\u25a0\u25a0 <\u25a0\u25a0\u25a0\u25a0\u25a0\u25a0\u25a0\u25a0\u25a0\u25a0\u25a0\u25a0@gmail.com>\n",
        "\n",
        "tomo\u25a0\u25a0\u25a0\u25a0 \u25a0\u25a0\u25a0\u25a0\u25a0\u25a0 <\u25a0\u25a0\u25a0\u25a0\u25a0\u25a0\u25a0@gc.cuny.edu>\n",
        "\n",
        "Virg\u25a0\u25a0\u25a0\u25a0 \u25a0\u25a0\u25a0\u25a0\u25a0\u25a0 <\u25a0\u25a0\u25a0\u25a0\u25a0\u25a0\u25a0@hunter.cuny.edu>\n",
        "\n",
        "vvvs\u25a0\u25a0\u25a0\u25a0\u25a0\u25a0\u25a0 <\u25a0\u25a0\u25a0\u25a0\u25a0\u25a0\u25a0\u25a0\u25a0\u25a0\u25a0@gmail.com>\n",
        "\n",
        "Yuli\u25a0 \u25a0\u25a0\u25a0\u25a0\u25a0\u25a0\u25a0\u25a0\u25a0\u25a0\u25a0 <\u25a0\u25a0\u25a0\u25a0\u25a0\u25a0\u25a0\u25a0@hunter.cuny.edu>\n",
        "\n"
       ]
      }
     ],
     "prompt_number": 55
    },
    {
     "cell_type": "markdown",
     "metadata": {},
     "source": [
      "Knowing what line you're on in a text file\n",
      "------------------------------------------"
     ]
    },
    {
     "cell_type": "code",
     "collapsed": false,
     "input": [
      "fh = open('emails.txt')\n",
      "# enumerate returns a tuple of (counter, item) for each item in its argument\n",
      "for num, line in enumerate(fh):\n",
      "    if num > 3:\n",
      "        break\n",
      "    print num, '-', anonymize(line)"
     ],
     "language": "python",
     "metadata": {},
     "outputs": [
      {
       "output_type": "stream",
       "stream": "stdout",
       "text": [
        "0 - Adam \u25a0\u25a0\u25a0\u25a0\u25a0\u25a0\u25a0\u25a0 <\u25a0.\u25a0\u25a0\u25a0\u25a0\u25a0\u25a0\u25a0\u25a0@gmail.com>\n",
        "\n",
        "1 - dani\u25a0\u25a0 \u25a0\u25a0\u25a0\u25a0 <\u25a0\u25a0\u25a0\u25a0\u25a0\u25a0\u25a0\u25a0\u25a0@gmail.com>\n",
        "\n",
        "2 - Dann\u25a0 \u25a0\u25a0\u25a0\u25a0\u25a0\u25a0 <\u25a0\u25a0\u25a0\u25a0\u25a0\u25a0@gmail.com>\n",
        "\n",
        "3 - Domi\u25a0\u25a0\u25a0\u25a0\u25a0 \u25a0 \u25a0\u25a0\u25a0\u25a0\u25a0\u25a0\u25a0\u25a0\u25a0\u25a0\u25a0 <\u25a0\u25a0\u25a0\u25a0\u25a0\u25a0\u25a0\u25a0\u25a0\u25a0\u25a0@nyu.edu>\n",
        "\n"
       ]
      }
     ],
     "prompt_number": 56
    },
    {
     "cell_type": "markdown",
     "metadata": {},
     "source": [
      "Keeping file contents around\n",
      "----------------------------\n",
      "\n",
      "so you can use them for something besides printing"
     ]
    },
    {
     "cell_type": "code",
     "collapsed": false,
     "input": [
      "attendees = []\n",
      "fh = open('emails.txt')\n",
      "for line in fh:\n",
      "    attendees.append(anonymize(line, '_'))\n",
      "attendees"
     ],
     "language": "python",
     "metadata": {},
     "outputs": [
      {
       "metadata": {},
       "output_type": "pyout",
       "prompt_number": 57,
       "text": [
        "['Adam ________ <_.________@gmail.com>\\n',\n",
        " 'dani__ ____ <_________@gmail.com>\\n',\n",
        " 'Dann_ ______ <______@gmail.com>\\n',\n",
        " 'Domi_____ _ ___________ <___________@nyu.edu>\\n',\n",
        " 'Doro__ _______ <________@hunter.cuny.edu>\\n',\n",
        " 'Erin _____ <________@gmail.com>\\n',\n",
        " 'Fran___ __________ <___________@gc.cuny.edu>\\n',\n",
        " 'Giul__ _______ <________@hunter.cuny.edu>\\n',\n",
        " 'Glor__ _ <_________@gmail.com>\\n',\n",
        " 'Jere__ ______ <__________@gmail.com>\\n',\n",
        " 'John _______ <____.____@gmail.com>\\n',\n",
        " '\"Wag___ _____\" <______.___@osu.edu>\\n',\n",
        " 'Laur__ _______ <___._______@gmail.com>\\n',\n",
        " 'lidi__ ________ <_______________@yahoo.com >\\n',\n",
        " 'Mart__ ________ <______.________@gmail.com>\\n',\n",
        " 'miho <______@gc.cuny.edu>\\n',\n",
        " 'Nocr___ <_______@gmail.com>\\n',\n",
        " 'Paul __________ <____.__________@gmail.com>\\n',\n",
        " 'Sand___ _______ <_______._______@gmail.com>\\n',\n",
        " 'Step_____ ________ <________@smith.edu>\\n',\n",
        " 'Syel__ ______ <____________@gmail.com>\\n',\n",
        " 'tomo____ ______ <_______@gc.cuny.edu>\\n',\n",
        " 'Virg____ ______ <_______@hunter.cuny.edu>\\n',\n",
        " 'vvvs_______ <___________@gmail.com>\\n',\n",
        " 'Yuli_ ___________ <________@hunter.cuny.edu>\\n']"
       ]
      }
     ],
     "prompt_number": 57
    },
    {
     "cell_type": "markdown",
     "metadata": {},
     "source": [
      "Python gives you a file object method, ``.readlines()``, that does the above for you."
     ]
    },
    {
     "cell_type": "code",
     "collapsed": false,
     "input": [
      "fh = open('emails.txt')\n",
      "attendees = fh.readlines()\n",
      "anon_attendees = [anonymize(a, '_') for a in attendees]  # list comprehension!\n",
      "anon_attendees"
     ],
     "language": "python",
     "metadata": {},
     "outputs": [
      {
       "metadata": {},
       "output_type": "pyout",
       "prompt_number": 58,
       "text": [
        "['Adam ________ <_.________@gmail.com>\\n',\n",
        " 'dani__ ____ <_________@gmail.com>\\n',\n",
        " 'Dann_ ______ <______@gmail.com>\\n',\n",
        " 'Domi_____ _ ___________ <___________@nyu.edu>\\n',\n",
        " 'Doro__ _______ <________@hunter.cuny.edu>\\n',\n",
        " 'Erin _____ <________@gmail.com>\\n',\n",
        " 'Fran___ __________ <___________@gc.cuny.edu>\\n',\n",
        " 'Giul__ _______ <________@hunter.cuny.edu>\\n',\n",
        " 'Glor__ _ <_________@gmail.com>\\n',\n",
        " 'Jere__ ______ <__________@gmail.com>\\n',\n",
        " 'John _______ <____.____@gmail.com>\\n',\n",
        " '\"Wag___ _____\" <______.___@osu.edu>\\n',\n",
        " 'Laur__ _______ <___._______@gmail.com>\\n',\n",
        " 'lidi__ ________ <_______________@yahoo.com >\\n',\n",
        " 'Mart__ ________ <______.________@gmail.com>\\n',\n",
        " 'miho <______@gc.cuny.edu>\\n',\n",
        " 'Nocr___ <_______@gmail.com>\\n',\n",
        " 'Paul __________ <____.__________@gmail.com>\\n',\n",
        " 'Sand___ _______ <_______._______@gmail.com>\\n',\n",
        " 'Step_____ ________ <________@smith.edu>\\n',\n",
        " 'Syel__ ______ <____________@gmail.com>\\n',\n",
        " 'tomo____ ______ <_______@gc.cuny.edu>\\n',\n",
        " 'Virg____ ______ <_______@hunter.cuny.edu>\\n',\n",
        " 'vvvs_______ <___________@gmail.com>\\n',\n",
        " 'Yuli_ ___________ <________@hunter.cuny.edu>\\n']"
       ]
      }
     ],
     "prompt_number": 58
    },
    {
     "cell_type": "markdown",
     "metadata": {},
     "source": [
      "Writing to a File\n",
      "-----------------\n",
      "\n",
      "The [open function](http://docs.python.org/2/library/functions.html#open) takes an optional ``mode`` argument which defaults to 'r' for 'read mode'."
     ]
    },
    {
     "cell_type": "code",
     "collapsed": false,
     "input": [
      "help(open)"
     ],
     "language": "python",
     "metadata": {},
     "outputs": [
      {
       "output_type": "stream",
       "stream": "stdout",
       "text": [
        "Help on built-in function open in module __builtin__:\n",
        "\n",
        "open(...)\n",
        "    open(name[, mode[, buffering]]) -> file object\n",
        "    \n",
        "    Open a file using the file() type, returns a file object.  This is the\n",
        "    preferred way to open a file.  See file.__doc__ for further information.\n",
        "\n"
       ]
      }
     ],
     "prompt_number": 59
    },
    {
     "cell_type": "markdown",
     "metadata": {},
     "source": [
      "File Modes\n",
      "----------\n",
      "\n",
      "- r : read\n",
      "- w : write - write to a file, overwriting the file if it already exists\n",
      "- a : append - write to a file, adding data to the end of the file if it already exists.\n",
      "\n",
      "So here's an example of creating a ``no-gmails.txt`` file that excludes everybody with a gmail address."
     ]
    },
    {
     "cell_type": "code",
     "collapsed": false,
     "input": [
      "infile = open('emails.txt', 'r')\n",
      "outfile = open('no-gmails.txt', 'w')\n",
      "for line in infile:\n",
      "    if '@gmail.com' not in line:\n",
      "        outfile.write(line)\n",
      "infile.close()\n",
      "outfile.close()"
     ],
     "language": "python",
     "metadata": {},
     "outputs": [],
     "prompt_number": 60
    },
    {
     "cell_type": "markdown",
     "metadata": {},
     "source": [
      "Text Matching/Extraction using Regular Expressions\n",
      "==================================================\n",
      "\n",
      "So far we've seen some simple ways to handle text matching"
     ]
    },
    {
     "cell_type": "code",
     "collapsed": false,
     "input": [
      "'@gmail.com' in '\u25a0\u25a0\u25a0\u25a0.\u25a0\u25a0\u25a0\u25a0\u25a0\u25a0\u25a0\u25a0\u25a0\u25a0@gmail.com'"
     ],
     "language": "python",
     "metadata": {},
     "outputs": [
      {
       "metadata": {},
       "output_type": "pyout",
       "prompt_number": 61,
       "text": [
        "True"
       ]
      }
     ],
     "prompt_number": 61
    },
    {
     "cell_type": "code",
     "collapsed": false,
     "input": [
      "'Sch\u00f6nfinkeling'.endswith('ing')"
     ],
     "language": "python",
     "metadata": {},
     "outputs": [
      {
       "metadata": {},
       "output_type": "pyout",
       "prompt_number": 62,
       "text": [
        "True"
       ]
      }
     ],
     "prompt_number": 62
    },
    {
     "cell_type": "code",
     "collapsed": false,
     "input": [
      "'omg lol'.istitle()"
     ],
     "language": "python",
     "metadata": {},
     "outputs": [
      {
       "metadata": {},
       "output_type": "pyout",
       "prompt_number": 63,
       "text": [
        "False"
       ]
      }
     ],
     "prompt_number": 63
    },
    {
     "cell_type": "markdown",
     "metadata": {},
     "source": [
      "These are handy, but **Regular Expressions** give us a special syntax for specifying arbitrary patterns.\n",
      "\n",
      "Those of you who've used CLAN's **combo** tool are familiar with a non-standard regular expression implementation.\n",
      "\n",
      "Literal Matching\n",
      "----------------\n",
      "\n",
      "The simplest match to specify is a literal string, which gives us no more power than the ``in`` operator."
     ]
    },
    {
     "cell_type": "code",
     "collapsed": false,
     "input": [
      "import re\n",
      "help(re.search)"
     ],
     "language": "python",
     "metadata": {},
     "outputs": [
      {
       "output_type": "stream",
       "stream": "stdout",
       "text": [
        "Help on function search in module re:\n",
        "\n",
        "search(pattern, string, flags=0)\n",
        "    Scan through string looking for a match to the pattern, returning\n",
        "    a match object, or None if no match was found.\n",
        "\n"
       ]
      }
     ],
     "prompt_number": 64
    },
    {
     "cell_type": "markdown",
     "metadata": {},
     "source": [
      "At this point, don't worry about what a match object is. Just know that when re.search returns a match object, it means it found a match, and when it returns None, it means it didn't."
     ]
    },
    {
     "cell_type": "code",
     "collapsed": false,
     "input": [
      "re.search('gmail', '\u25a0\u25a0\u25a0\u25a0.\u25a0\u25a0\u25a0\u25a0\u25a0\u25a0\u25a0\u25a0\u25a0\u25a0@gmail.com')"
     ],
     "language": "python",
     "metadata": {},
     "outputs": [
      {
       "metadata": {},
       "output_type": "pyout",
       "prompt_number": 65,
       "text": [
        "<_sre.SRE_Match at 0x240ced0>"
       ]
      }
     ],
     "prompt_number": 65
    },
    {
     "cell_type": "code",
     "collapsed": false,
     "input": [
      "re.search('g', '\u25a0\u25a0\u25a0\u25a0\u25a0\u25a0\u25a0@hunter.cuny.edu') is None"
     ],
     "language": "python",
     "metadata": {},
     "outputs": [
      {
       "metadata": {},
       "output_type": "pyout",
       "prompt_number": 66,
       "text": [
        "True"
       ]
      }
     ],
     "prompt_number": 66
    },
    {
     "cell_type": "markdown",
     "metadata": {},
     "source": [
      "Metacharacters\n",
      "--------------\n",
      "\n",
      "The regular expression syntax contains a set of **metacharacters**, which don't represent themselves literally.\n",
      "\n",
      "The following three \"bind\" to the item immediately preceeding them.\n",
      "\n",
      "x?\n",
      "----\n",
      "\n",
      "the literal character x, 0 or 1 times (aka optional)"
     ]
    },
    {
     "cell_type": "code",
     "collapsed": false,
     "input": [
      "re.search('colou?r', 'color')"
     ],
     "language": "python",
     "metadata": {},
     "outputs": [
      {
       "metadata": {},
       "output_type": "pyout",
       "prompt_number": 67,
       "text": [
        "<_sre.SRE_Match at 0x2419098>"
       ]
      }
     ],
     "prompt_number": 67
    },
    {
     "cell_type": "code",
     "collapsed": false,
     "input": [
      "re.search('colou?r', 'colour')"
     ],
     "language": "python",
     "metadata": {},
     "outputs": [
      {
       "metadata": {},
       "output_type": "pyout",
       "prompt_number": 68,
       "text": [
        "<_sre.SRE_Match at 0x2419168>"
       ]
      }
     ],
     "prompt_number": 68
    },
    {
     "cell_type": "markdown",
     "metadata": {},
     "source": [
      "x*\n",
      "----\n",
      "the literal character x, 0 or more times"
     ]
    },
    {
     "cell_type": "code",
     "collapsed": false,
     "input": [
      "re.search('!*', 'I lost my book of example sentences')"
     ],
     "language": "python",
     "metadata": {},
     "outputs": [
      {
       "metadata": {},
       "output_type": "pyout",
       "prompt_number": 69,
       "text": [
        "<_sre.SRE_Match at 0x2419238>"
       ]
      }
     ],
     "prompt_number": 69
    },
    {
     "cell_type": "code",
     "collapsed": false,
     "input": [
      "re.search('!*', 'I lost my book of example sentences!!!!')"
     ],
     "language": "python",
     "metadata": {},
     "outputs": [
      {
       "metadata": {},
       "output_type": "pyout",
       "prompt_number": 70,
       "text": [
        "<_sre.SRE_Match at 0x2419308>"
       ]
      }
     ],
     "prompt_number": 70
    },
    {
     "cell_type": "markdown",
     "metadata": {},
     "source": [
      "x+\n",
      "----\n",
      "the literal character x, 1 or more times"
     ]
    },
    {
     "cell_type": "code",
     "collapsed": false,
     "input": [
      "re.search('gr+eat', 'they grrrrreat')"
     ],
     "language": "python",
     "metadata": {},
     "outputs": [
      {
       "metadata": {},
       "output_type": "pyout",
       "prompt_number": 71,
       "text": [
        "<_sre.SRE_Match at 0x24193d8>"
       ]
      }
     ],
     "prompt_number": 71
    },
    {
     "cell_type": "markdown",
     "metadata": {},
     "source": [
      ".\n",
      "----\n",
      "\n",
      "the period character is a wildcard, which is read as \"any single character\"\n",
      "\n",
      "the wilcard can be combined with any of the above"
     ]
    },
    {
     "cell_type": "code",
     "collapsed": false,
     "input": [
      "re.search('I would like . donuts', 'I would like 2 donuts')"
     ],
     "language": "python",
     "metadata": {},
     "outputs": [
      {
       "metadata": {},
       "output_type": "pyout",
       "prompt_number": 72,
       "text": [
        "<_sre.SRE_Match at 0x24194a8>"
       ]
      }
     ],
     "prompt_number": 72
    },
    {
     "cell_type": "code",
     "collapsed": false,
     "input": [
      "re.search('I would like .+ donuts?', 'I would like 1 donut')"
     ],
     "language": "python",
     "metadata": {},
     "outputs": [
      {
       "metadata": {},
       "output_type": "pyout",
       "prompt_number": 73,
       "text": [
        "<_sre.SRE_Match at 0x2419578>"
       ]
      }
     ],
     "prompt_number": 73
    },
    {
     "cell_type": "markdown",
     "metadata": {},
     "source": [
      "(word!)\n",
      "-------\n",
      "\n",
      "Parenthesis allow grouping. This lets us bind one of the repetition metacharacters (? + *) with an arbitrary pattern."
     ]
    },
    {
     "cell_type": "code",
     "collapsed": false,
     "input": [
      "pat = 'I would (.*)like .+ donuts?'\n",
      "re.search(pat, 'I would really like 1 donut'), re.search(pat, 'I would like 10 donuts')"
     ],
     "language": "python",
     "metadata": {},
     "outputs": [
      {
       "metadata": {},
       "output_type": "pyout",
       "prompt_number": 74,
       "text": [
        "(<_sre.SRE_Match at 0x23fc918>, <_sre.SRE_Match at 0x23fc8a0>)"
       ]
      }
     ],
     "prompt_number": 74
    }
   ],
   "metadata": {}
  }
 ]
}