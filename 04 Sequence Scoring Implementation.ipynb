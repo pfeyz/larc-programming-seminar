{
 "metadata": {
  "name": ""
 },
 "nbformat": 3,
 "nbformat_minor": 0,
 "worksheets": [
  {
   "cells": [
    {
     "cell_type": "markdown",
     "metadata": {},
     "source": [
      "Let's Score Working Memory\n",
      "==========================\n",
      "\n",
      "To quickly review, the task is to create a\n",
      "\n",
      "- procedure for scoring the similarity of an input list to an output list\n",
      "\n",
      "- series of functions that model children with different \"problems\" responding\n",
      "  to an input sequence\n",
      "\n",
      "- workflow for evaluating different scoring procedures against different child\n",
      "  models\n",
      "\n",
      "given this input data "
     ]
    },
    {
     "cell_type": "code",
     "collapsed": false,
     "input": [
      "sequences = [\n",
      "\t   [7, 4],\n",
      "\t   [8, 6],\n",
      "\t   [3, 5, 1],\n",
      "\t   [6, 3],\n",
      "\t   [1, 9],\n",
      "\t   [5, 8, 4],\n",
      "\t   [9, 1, 2],\n",
      "\t   [2, 7, 6, 3],\n",
      "\t   [4, 5, 9],\n",
      "\t   [8, 4, 3],\n",
      "\t   [6, 8, 7, 2],\n",
      "\t   [4, 9, 8, 6],\n",
      "\t   [9, 6, 5, 7, 8],\n",
      "\t   [1, 2, 9, 5],\n",
      "\t   [7, 3, 2, 1]\n",
      "\t  ]\n"
     ],
     "language": "python",
     "metadata": {},
     "outputs": [],
     "prompt_number": 98
    },
    {
     "cell_type": "markdown",
     "metadata": {},
     "source": [
      "each nested list representing an ordering on a 3x3 grid\n",
      "\n",
      "     _________________________________________________________   __\n",
      "    |                   .                   .                 |    |\n",
      "    |        1          .         2         .       3         |    |\n",
      "    |                   .                   .                 |    |\n",
      "    |.........................................................|    |\n",
      "    |                   .                   .                 |    |\n",
      "    |        4          .         5         .       6         |    |\n",
      "    |                   .                   .                 |    |--- The Grid\n",
      "    |.........................................................|    |\n",
      "    |                   .                   .                 |    |\n",
      "    |        7          .         8         .       9         |    |\n",
      "    |                   .                   .                 |    |\n",
      "    |_________________________________________________________|  __|\n",
      "\n",
      "that is demonstrated to a child by touching those spots in that order, and then\n",
      "asking the child to imitate.\n",
      "\n",
      "Scoring Responses\n",
      "-----------------\n",
      "\n",
      "I described a simple scoring function\n",
      "\n",
      "$$\\frac{misses + insertions}{|input|}$$\n",
      "\n",
      "based on some of the ones we discussed at meetings. This function has the\n",
      "desirable trait of only moving in one direction; 0 is a perfect score, and the\n",
      "bigger the number the worse the performance.\n",
      "\n",
      "> $|input|$ is a way of writing \"the size of input\", just in case anybody's not\n",
      "  familiar with that notation.\n",
      "\n",
      "Additionally, the fact that $|input|$ is in the denominator means that we'll\n",
      "scale our level of \"punishment\" (increasing the score) according to how hard the\n",
      "task was (how long the sequence is).\n",
      "\n",
      "So a child who is given a 3 item task and misses 2 is scored\n",
      "\n",
      "$$\\frac{2 + 0}{3} = 0.\\overline{6}$$\n",
      "\n",
      "while a child who makes the same number of misses on a 5 item task is scored\n",
      "\n",
      "$$\\frac{2 + 0}{5} = 0.4$$\n",
      "\n",
      "Let's start by breaking down the score into its composite parts\n",
      "\n",
      "Misses\n",
      "------\n",
      "\n"
     ]
    },
    {
     "cell_type": "code",
     "collapsed": false,
     "input": [
      "# don't do this (elaborate)\n",
      "def misses(seq_input, resp):\n",
      "    seq = seq_input\n",
      "    for item in resp:\n",
      "        if item in seq:\n",
      "            seq.remove(item)\n",
      "    return len(seq)\n",
      "\n",
      "def misses(seq, resp):\n",
      "    \"\"\" Returns the number of items in `seq` not appearing in `resp`. \"\"\"\n",
      "    total = 0\n",
      "    for item in seq:\n",
      "        if item not in resp:\n",
      "\t   total += 1\n",
      "    return total\n"
     ],
     "language": "python",
     "metadata": {},
     "outputs": [],
     "prompt_number": 99
    },
    {
     "cell_type": "code",
     "collapsed": false,
     "input": [
      "misses([1], [])"
     ],
     "language": "python",
     "metadata": {},
     "outputs": [
      {
       "output_type": "pyout",
       "prompt_number": 100,
       "text": [
        "1"
       ]
      }
     ],
     "prompt_number": 100
    },
    {
     "cell_type": "code",
     "collapsed": false,
     "input": [
      "misses([6, 8, 7, 2], [2, 7])"
     ],
     "language": "python",
     "metadata": {},
     "outputs": [
      {
       "output_type": "pyout",
       "prompt_number": 101,
       "text": [
        "2"
       ]
      }
     ],
     "prompt_number": 101
    },
    {
     "cell_type": "markdown",
     "metadata": {},
     "source": [
      "Insertions\n",
      "----------\n",
      "\n",
      "This is slightly more complicated since the number of possible insertions is\n",
      "unbounded."
     ]
    },
    {
     "cell_type": "code",
     "collapsed": false,
     "input": [
      "def insertions(prompt, response):  # aka false alarms\n",
      "    score = 0\n",
      "    prompt = prompt[:] # make a new copy of prompt\n",
      "    for item in resp:\n",
      "        if item in seq:\n",
      "            seq.remove(item)\n",
      "        elif item not in seq:\n",
      "            score += 1\n",
      "    return score"
     ],
     "language": "python",
     "metadata": {},
     "outputs": [],
     "prompt_number": 102
    },
    {
     "cell_type": "code",
     "collapsed": false,
     "input": [
      "insertions([9, 6, 5, 7, 8], [])"
     ],
     "language": "python",
     "metadata": {},
     "outputs": [
      {
       "output_type": "pyout",
       "prompt_number": 103,
       "text": [
        "0"
       ]
      }
     ],
     "prompt_number": 103
    },
    {
     "cell_type": "code",
     "collapsed": false,
     "input": [
      "insertions([8, 4, 3], [8, 8, 3, 3])"
     ],
     "language": "python",
     "metadata": {},
     "outputs": [
      {
       "output_type": "pyout",
       "prompt_number": 104,
       "text": [
        "2"
       ]
      }
     ],
     "prompt_number": 104
    },
    {
     "cell_type": "markdown",
     "metadata": {},
     "source": [
      "Scoring a Sequence\n",
      "------------------\n"
     ]
    },
    {
     "cell_type": "code",
     "collapsed": false,
     "input": [
      "def paul_score(seq, resp):\n",
      "    mistakes = misses(seq, resp) + insertions(seq, resp)\n",
      "    return mistakes / float(len(seq))\n"
     ],
     "language": "python",
     "metadata": {},
     "outputs": [],
     "prompt_number": 105
    },
    {
     "cell_type": "code",
     "collapsed": false,
     "input": [
      "score([1], [1])\n"
     ],
     "language": "python",
     "metadata": {},
     "outputs": [
      {
       "output_type": "pyout",
       "prompt_number": 106,
       "text": [
        "0.0"
       ]
      }
     ],
     "prompt_number": 106
    },
    {
     "cell_type": "markdown",
     "metadata": {},
     "source": [
      "Child Modelling\n",
      "---------------"
     ]
    },
    {
     "cell_type": "code",
     "collapsed": false,
     "input": [
      "\n",
      "from random import randint, random\n",
      "\n",
      "def random_response(seq):\n",
      "    return [randint(1,9)\n",
      "\t    for _ in range(0,randint(0, 15))]\n",
      "\n",
      "def stutter_response(seq):\n",
      "    response = []\n",
      "    index = 0\n",
      "    while index < len(seq):\n",
      "        response.append(seq[index])\n",
      "        if random() < 0.8:\n",
      "            index += 1 # move on to the next item\n",
      "    return response\n",
      "\n",
      "def transposing_child(seq):\n",
      "    resp = []\n",
      "    i = 0\n",
      "    while i < len(seq) - 1:\n",
      "     \tif random() < 0.5:\n",
      "\t    resp.extend([seq[i+1], seq[i]])\n",
      "\t    i += 2\n",
      "\telse:\n",
      "\t    resp.append(seq[i])\n",
      "\t    i += 1\n",
      "    return resp\n"
     ],
     "language": "python",
     "metadata": {},
     "outputs": [],
     "prompt_number": 107
    },
    {
     "cell_type": "markdown",
     "metadata": {},
     "source": [
      "Composing Functions\n",
      "-------------------\n"
     ]
    },
    {
     "cell_type": "code",
     "collapsed": false,
     "input": [
      "def random_stutter(seq):\n",
      "    return stutter_response(random_response(seq))\n",
      "\n",
      "def simulate(inputs, score, child_response_generator):\n",
      "    data = []  # triples of input, resp, score\n",
      "    total = 0\n",
      "    for seq in inputs:\n",
      "        resp = child_response_generator(seq)\n",
      "        s = score(seq, resp)\n",
      "        data.append([seq, resp, s])\n",
      "        total += s\n",
      "    return total\n"
     ],
     "language": "python",
     "metadata": {},
     "outputs": [],
     "prompt_number": 109
    },
    {
     "cell_type": "code",
     "collapsed": false,
     "input": [],
     "language": "python",
     "metadata": {},
     "outputs": []
    }
   ],
   "metadata": {}
  }
 ]
}