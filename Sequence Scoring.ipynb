{
 "metadata": {
  "name": ""
 },
 "nbformat": 3,
 "nbformat_minor": 0,
 "worksheets": [
  {
   "cells": [
    {
     "cell_type": "markdown",
     "metadata": {},
     "source": [
      "Scoring Working Memory\n",
      "======================\n",
      "\n",
      "At a few lab meetings we've discussed how to best score the data\n",
      "we've collected for our Working Memory experiment. \n",
      "\n",
      "Working memory is essentially a memory game where the child is asked to watch the\n",
      "experimenter touch 1-5 objects on a 3x3 grid and then touch the\n",
      "same objects in the same order.\n",
      "\n",
      "     _________________________________________________________   __\n",
      "    |                   .                   .                 |    |\n",
      "    |        1          .         2         .       3         |    |\n",
      "    |                   .                   .                 |    |\n",
      "    |.........................................................|    |\n",
      "    |                   .                   .                 |    |\n",
      "    |        4          .         5         .       6         |    |\n",
      "    |                   .                   .                 |    |--- The Grid\n",
      "    |.........................................................|    |    \n",
      "    |                   .                   .                 |    |\n",
      "    |        7          .         8         .       9         |    |\n",
      "    |                   .                   .                 |    |\n",
      "    |_________________________________________________________|  __| "
     ]
    },
    {
     "cell_type": "markdown",
     "metadata": {},
     "source": [
      "For the purposes of this exercise, let's suppose that\n",
      "experimenter error is not a factor, so that the child is always\n",
      "given the following list of inputs:"
     ]
    },
    {
     "cell_type": "code",
     "collapsed": false,
     "input": [
      "sequences = [\n",
      "\t   [7, 4],\n",
      "\t   [8, 6],\n",
      "\t   [3, 5, 1],\n",
      "\t   [6, 3],\n",
      "\t   [1, 9],\n",
      "\t   [5, 8, 4],\n",
      "\t   [9, 1, 2],\n",
      "\t   [2, 7, 6, 3],\n",
      "\t   [4, 5, 9],\n",
      "\t   [8, 4, 3],\n",
      "\t   [6, 8, 7, 2],\n",
      "\t   [4, 9, 8, 6],\n",
      "\t   [9, 6, 5, 7, 8],\n",
      "\t   [1, 2, 9, 5],\n",
      "\t   [7, 3, 2, 1]\n",
      "\t  ]"
     ],
     "language": "python",
     "metadata": {},
     "outputs": [],
     "prompt_number": 1
    },
    {
     "cell_type": "markdown",
     "metadata": {},
     "source": [
      "It's a nested list, so `sequences` is a list where each index\n",
      "contains one trial list, and each trial list contains numbers\n",
      "representing a spot on the 3x3 grid. For our purposes the child\n",
      "is given a list of numbers and responds with another list of\n",
      "numbers).\n",
      "\n",
      "Sequence Scoring\n",
      "----------------\n",
      "\n",
      "Start by creating the scoring functions. We'll want one function\n",
      "for calculating $misses$ (# of input items not present in the\n",
      "response) and one for $insertions$ (# of\n",
      "response items not present in input) in the format:"
     ]
    },
    {
     "cell_type": "code",
     "collapsed": false,
     "input": [
      "def misses(sequence, response):\n",
      "    ...\n",
      "    return score\n",
      "\n",
      "def insertions(sequence, response):\n",
      "    ...\n",
      "    return score"
     ],
     "language": "python",
     "metadata": {},
     "outputs": []
    },
    {
     "cell_type": "markdown",
     "metadata": {},
     "source": [
      "Both return an integer score. ``sequence`` is a list of numbers\n",
      "the child was given, and ``response`` is the list of numbers the\n",
      "child responded with.\n",
      "\n",
      "Note that\n",
      "\n",
      "$misses + hits = |input|$\n",
      "\n",
      "so $hits$ doesn't carry\n",
      "any additional information on its own (since $hits = |input| - misses$), which is why I excluded it.\n",
      "\n",
      "Create a composite scoring function based on $misses$ and $insertions$. I\n",
      "suggested\n",
      "\n",
      "$$\\frac{(misses + insertions)}{|input|}$$\n",
      "\n",
      "Feel free to try out some others.\n",
      "\n",
      "Child Modelling\n",
      "---------------\n",
      "\n",
      "Now create a series of functions that model a child giving a\n",
      "response to an input. The function should take the input\n",
      "sequence as an argument. \n",
      "\n",
      "For example, say I defined a generate_random_response function\n",
      "which models a child who simply doesn't get the task and presses\n",
      "buttons at random."
     ]
    },
    {
     "cell_type": "raw",
     "metadata": {},
     "source": [
      ">>> generate_random_response([4, 5, 9])\n",
      "[3, 6, 7, 5]"
     ]
    },
    {
     "cell_type": "markdown",
     "metadata": {},
     "source": [
      "or one that occasionally repeats an input item"
     ]
    },
    {
     "cell_type": "raw",
     "metadata": {},
     "source": [
      ">>> generate_stutter_response([1, 2, 9, 5])\n",
      "[1, 2, 2, 9 ,5]"
     ]
    },
    {
     "cell_type": "markdown",
     "metadata": {},
     "source": [
      "the randint function from the random model will come in handy\n",
      "for this stuff."
     ]
    },
    {
     "cell_type": "code",
     "collapsed": false,
     "input": [
      "from random import randint\n",
      "randint(1, 5) # evaluate to random number from [1-5]"
     ],
     "language": "python",
     "metadata": {},
     "outputs": [
      {
       "metadata": {},
       "output_type": "pyout",
       "prompt_number": 2,
       "text": [
        "3"
       ]
      }
     ],
     "prompt_number": 2
    },
    {
     "cell_type": "markdown",
     "metadata": {},
     "source": [
      "Running the Simulation\n",
      "----------------------\n",
      "\n",
      "Create a function that takes as arguments the nested list of\n",
      "trial lists, a scoring function, and a response generating\n",
      "function (like generate_random_response). It should return an\n",
      "aggregate score for that child model's responses. For the\n",
      "scoring function I suggested above, this would simply mean\n",
      "summing the individual scores.\n",
      "\n",
      "def score_child(sequence, scoring_function, response_generator)\n",
      " ...\n",
      " return score\n",
      "\n",
      "Scoring Pairs\n",
      "-------------\n",
      "\n",
      "So far all of this has been focused on scoring that doesn't take ordering into account. It turns out that if we use lists of _pairs_ of numbers (instead of a list of individual numbers) we can use those for our scoring functions as they are. See if you agree with this.\n",
      "\n",
      "Write a bigram function that takes a list of numbers as inputs\n",
      "and returns a list of bigrams (pairs of numbers)."
     ]
    },
    {
     "cell_type": "raw",
     "metadata": {},
     "source": [
      ">>> bigram([1,2,3]);\n",
      "[[1, 2], [2, 3]]"
     ]
    },
    {
     "cell_type": "markdown",
     "metadata": {},
     "source": [
      "Once you create this, you can use it to write a simulation that\n",
      "uses your prexisting scoring & response generating functions but\n",
      "uses your bigram function to make the scoring operate on bigrams\n",
      "rather than the straight lists (aka unigrams).\n",
      "\n",
      "Bonus \"points\" if you create a general n-gram function that\n",
      "works for any n (bigram is the case where $n=2$)."
     ]
    }
   ],
   "metadata": {}
  }
 ]
}