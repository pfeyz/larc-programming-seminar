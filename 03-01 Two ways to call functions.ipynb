{
 "metadata": {
  "name": ""
 },
 "nbformat": 3,
 "nbformat_minor": 0,
 "worksheets": [
  {
   "cells": [
    {
     "cell_type": "markdown",
     "metadata": {
      "slideshow": {
       "slide_type": "slide"
      }
     },
     "source": [
      "Two ways to call functions\n",
      "==========================\n",
      "\n",
      "the normal way"
     ]
    },
    {
     "cell_type": "code",
     "collapsed": false,
     "input": [
      "max(5, 10)"
     ],
     "language": "python",
     "metadata": {},
     "outputs": [
      {
       "metadata": {},
       "output_type": "pyout",
       "prompt_number": 5,
       "text": [
        "10"
       ]
      }
     ],
     "prompt_number": 5
    },
    {
     "cell_type": "markdown",
     "metadata": {},
     "source": [
      "and the dot notation way"
     ]
    },
    {
     "cell_type": "code",
     "collapsed": false,
     "input": [
      "\"You're telling me the ideas were sleeping?\".replace('e', '3')"
     ],
     "language": "python",
     "metadata": {},
     "outputs": [
      {
       "metadata": {},
       "output_type": "pyout",
       "prompt_number": 6,
       "text": [
        "\"You'r3 t3lling m3 th3 id3as w3r3 sl33ping?\""
       ]
      }
     ],
     "prompt_number": 6
    },
    {
     "cell_type": "markdown",
     "metadata": {},
     "source": [
      "The first way can be thought of as"
     ]
    },
    {
     "cell_type": "code",
     "collapsed": false,
     "input": [
      "verb(noun1, noun2)"
     ],
     "language": "python",
     "metadata": {},
     "outputs": []
    },
    {
     "cell_type": "markdown",
     "metadata": {},
     "source": [
      "While the second can be thought of as (borrowing from $\\theta$-roles)"
     ]
    },
    {
     "cell_type": "code",
     "collapsed": true,
     "input": [
      "agent.verb()\n",
      "agent.verb(theme)\n",
      "agent.verb(goal, theme)\n",
      "\n",
      "allison.run()\n",
      "truman.punch(johnson)\n",
      "butler.send(dina, poison)\n",
      "farinella.deliver(larc, chocopizza, vip, primavera)"
     ],
     "language": "python",
     "metadata": {},
     "outputs": []
    },
    {
     "cell_type": "markdown",
     "metadata": {},
     "source": [
      "But please keep in mind that nothing in python enforces these semantics or ordering, it's just good style.\n",
      "\n",
      "Technically we refer to the first style, ``verb(noun)``, as a **function call** and the second ``noun.verb()`` a **method call**. \n",
      "\n",
      "A **method** is a function that's \"bound\" to particular piece of data- it can only be used in reference to that data"
     ]
    },
    {
     "cell_type": "code",
     "collapsed": false,
     "input": [
      "replace('Focaccia bread, chocolate, hazelnut?', 'e', '3')"
     ],
     "language": "python",
     "metadata": {},
     "outputs": [
      {
       "ename": "NameError",
       "evalue": "name 'replace' is not defined",
       "output_type": "pyerr",
       "traceback": [
        "\u001b[1;31m---------------------------------------------------------------------------\u001b[0m\n\u001b[1;31mNameError\u001b[0m                                 Traceback (most recent call last)",
        "\u001b[1;32m<ipython-input-7-e6d28aa72ff9>\u001b[0m in \u001b[0;36m<module>\u001b[1;34m()\u001b[0m\n\u001b[1;32m----> 1\u001b[1;33m \u001b[0mreplace\u001b[0m\u001b[1;33m(\u001b[0m\u001b[1;34m'Focaccia bread, chocolate, hazelnut?'\u001b[0m\u001b[1;33m,\u001b[0m \u001b[1;34m'e'\u001b[0m\u001b[1;33m,\u001b[0m \u001b[1;34m'3'\u001b[0m\u001b[1;33m)\u001b[0m\u001b[1;33m\u001b[0m\u001b[0m\n\u001b[0m",
        "\u001b[1;31mNameError\u001b[0m: name 'replace' is not defined"
       ]
      }
     ],
     "prompt_number": 7
    },
    {
     "cell_type": "markdown",
     "metadata": {},
     "source": [
      "That fails because we were trying to use the replace function, which only exists as ``a_string_object.replace()``\n",
      "\n",
      "The name for this system of using methods instead of functions is called **Object-Oriented Programming**, which would be better named **Agent-Based Programming** if we were thinking in terms of $\\theta$-roles. \n",
      "\n",
      "Don't worry too much about all this yet, just know that when people say something is a method of an object, they mean you use it like ``object.method()``\n",
      "\n",
      "The max function we used is a built-in function, which means it doesn't need to be imported from a module or called as a method; it's always available. \n",
      "\n",
      "Here's a list of [all the built-in functions](http://docs.python.org/2/library/functions.html)"
     ]
    }
   ],
   "metadata": {}
  }
 ]
}